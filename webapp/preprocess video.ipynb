{
 "cells": [
  {
   "cell_type": "code",
   "execution_count": 1,
   "metadata": {},
   "outputs": [],
   "source": [
    "import tensorflow as tf"
   ]
  },
  {
   "cell_type": "code",
   "execution_count": 2,
   "metadata": {},
   "outputs": [],
   "source": [
    "video_path='/home/rohit/Desktop/video.mp4'"
   ]
  },
  {
   "cell_type": "code",
   "execution_count": 3,
   "metadata": {},
   "outputs": [],
   "source": [
    "audio_clip='/home/rohit/Desktop/arctic_a0001.wav'"
   ]
  },
  {
   "cell_type": "code",
   "execution_count": null,
   "metadata": {},
   "outputs": [],
   "source": [
    "#ffmpeg -i video.mp4 -f mp3 -ab 192000 -vn audio.mp3"
   ]
  },
  {
   "cell_type": "code",
   "execution_count": 5,
   "metadata": {},
   "outputs": [
    {
     "data": {
      "text/plain": [
       "<open file 'mixed_sound.mp3', mode 'wb+' at 0x7fc84388c300>"
      ]
     },
     "execution_count": 5,
     "metadata": {},
     "output_type": "execute_result"
    }
   ],
   "source": [
    "from pydub import AudioSegment\n",
    "\n",
    "sound1 = AudioSegment.from_mp3(\"./aww.mp3\")\n",
    "sound2 = AudioSegment.from_mp3(\"./audio.mp3\")\n",
    "\n",
    "# mix sound2 with sound1, starting at 5000ms into sound1)\n",
    "output = sound2.overlay(sound1, position=20500)\n",
    "\n",
    "# save the result\n",
    "output.export(\"mixed_sound.mp3\", format=\"mp3\")"
   ]
  },
  {
   "cell_type": "code",
   "execution_count": 16,
   "metadata": {},
   "outputs": [],
   "source": [
    "#ffmpeg -i video.mp4 -i mixed_sound.mp3 -c copy -map 0:v -map 1:a result.mp4"
   ]
  },
  {
   "cell_type": "code",
   "execution_count": 19,
   "metadata": {},
   "outputs": [
    {
     "data": {
      "text/plain": [
       "1996"
      ]
     },
     "execution_count": 19,
     "metadata": {},
     "output_type": "execute_result"
    }
   ],
   "source": [
    "import pysrt\n",
    "\n",
    "# Loading the Subtitle\n",
    "subs = pysrt.open('interstellar-english-yify-42252/Interstellar.2014.720p.BluRay.x264.YIFY.srt',\n",
    "                 encoding='iso-8859-1')\n",
    "\n",
    "len(subs)"
   ]
  },
  {
   "cell_type": "code",
   "execution_count": 20,
   "metadata": {},
   "outputs": [
    {
     "data": {
      "text/plain": [
       "<pysrt.srtitem.SubRipItem at 0x7f5468dcbb90>"
      ]
     },
     "execution_count": 20,
     "metadata": {},
     "output_type": "execute_result"
    }
   ],
   "source": [
    "subs[0]"
   ]
  },
  {
   "cell_type": "code",
   "execution_count": 21,
   "metadata": {},
   "outputs": [],
   "source": [
    "first_sub = subs[0]"
   ]
  },
  {
   "cell_type": "code",
   "execution_count": 28,
   "metadata": {},
   "outputs": [],
   "source": [
    "# Subtitle text\n",
    "text = first_sub.text\n",
    "text_without_tags = first_sub.text_without_tags\n",
    "\n",
    "# Start and End time\n",
    "start = sub.start.to_time()\n",
    "end = sub.end.to_time()"
   ]
  },
  {
   "cell_type": "code",
   "execution_count": 49,
   "metadata": {},
   "outputs": [
    {
     "name": "stdout",
     "output_type": "stream",
     "text": [
      "(74000, 'millisecond')\n",
      "1\n"
     ]
    }
   ],
   "source": [
    "print(( (start.hour*3600) + (start.minute*60) + start.second)*1000,'millisecond' )\n",
    "print(end.minute)"
   ]
  },
  {
   "cell_type": "code",
   "execution_count": 51,
   "metadata": {},
   "outputs": [
    {
     "data": {
      "text/plain": [
       "'\\nThe titular threat of The Blob has always struck me as the ultimate movie\\nmonster: an insatiably hungry, amoeba-like mass able to penetrate\\nvirtually any safeguard, capable of--as a doomed doctor chillingly\\ndescribes it--\"assimilating flesh on contact.\\nSnide comparisons to gelatin be damned, it\\'s a concept with the most\\ndevastating of potential consequences, not unlike the grey goo scenario\\nproposed by technological theorists fearful of\\nartificial intelligence run rampant.\\n'"
      ]
     },
     "execution_count": 51,
     "metadata": {},
     "output_type": "execute_result"
    }
   ],
   "source": []
  },
  {
   "cell_type": "code",
   "execution_count": 36,
   "metadata": {},
   "outputs": [
    {
     "name": "stdout",
     "output_type": "stream",
     "text": [
      "0.06\n",
      "-0.341666666667\n"
     ]
    }
   ],
   "source": [
    "#-----------------------------------------------\n",
    "from textblob import TextBlob\n",
    "\n",
    "text = '''\n",
    "The titular threat of The Blob has always struck me as the ultimate movie\n",
    "monster: an insatiably hungry, amoeba-like mass able to penetrate\n",
    "virtually any safeguard, capable of--as a doomed doctor chillingly\n",
    "describes it--\"assimilating flesh on contact.\n",
    "Snide comparisons to gelatin be damned, it's a concept with the most\n",
    "devastating of potential consequences, not unlike the grey goo scenario\n",
    "proposed by technological theorists fearful of\n",
    "artificial intelligence run rampant.\n",
    "'''\n",
    "\n",
    "blob = TextBlob(text)\n",
    "blob.tags           # [('The', 'DT'), ('titular', 'JJ'),\n",
    "                    #  ('threat', 'NN'), ('of', 'IN'), ...]\n",
    "\n",
    "blob.noun_phrases   # WordList(['titular threat', 'blob',\n",
    "                    #            'ultimate movie monster',\n",
    "                    #            'amoeba-like mass', ...])\n",
    "\n",
    "for sentence in blob.sentences:\n",
    "    print(sentence.sentiment.polarity)\n",
    "# 0.060\n",
    "# -0.341\n",
    "\n",
    "blob.translate(to=\"es\")  # 'La amenaza titular de The Blob...'\n",
    "\n",
    "# Sentiment Analysis\n",
    "blob = TextBlob(text)\n",
    "sentiment_polarity = blob.sentiment.polarity # -0.1590909090909091\n",
    "sentiment_subjectivity = blob.sentiment.subjectivity # 0.693181818181818"
   ]
  },
  {
   "cell_type": "code",
   "execution_count": 37,
   "metadata": {},
   "outputs": [],
   "source": [
    "from datetime import date, datetime, timedelta, time\n",
    "import pysrt\n",
    "from textblob import TextBlob\n",
    "import matplotlib\n",
    "from matplotlib import style\n",
    "import matplotlib.pyplot as plt\n",
    "import seaborn as sns\n",
    "sns.set()\n",
    "%matplotlib inline\n",
    "matplotlib.rcParams['figure.figsize'] = (16.0, 9.0)\n",
    "style.use('fivethirtyeight')"
   ]
  },
  {
   "cell_type": "code",
   "execution_count": 38,
   "metadata": {},
   "outputs": [],
   "source": [
    "# Helper Function to create equally divided time intervals\n",
    "# start - Starting Time\n",
    "# end - Ending Time\n",
    "# delta - Interval Period\n",
    "def create_intervals(start, end, delta):\n",
    "    curr = start\n",
    "    while curr <= end:\n",
    "        curr = (datetime.combine(date.today(), curr) + delta).time()\n",
    "        yield curr\n",
    "\n",
    "# Main Function to Get Sentiment Data\n",
    "# file - srt file location\n",
    "# delta - time interval in minutes\n",
    "def get_sentiment(file, delta=2):\n",
    "    # Reading Subtitle\n",
    "    subs = pysrt.open(file, encoding='iso-8859-1')\n",
    "    n = len(subs)\n",
    "    # List to store the time periods\n",
    "    intervals = []\n",
    "    # Start, End and Delta\n",
    "    start = time(0, 0, 0)\n",
    "    end = subs[-1].end.to_time()\n",
    "    delta = timedelta(minutes=delta)\n",
    "    for result in create_intervals(start, end, delta):\n",
    "        intervals.append(result)\n",
    "    # List to store sentiment polarity\n",
    "    sentiments = []\n",
    "    \n",
    "    index = 0\n",
    "    m = len(intervals)\n",
    "    # Collect and combine all the text in each time interval\n",
    "    for i in range(m):\n",
    "        text = \"\"\n",
    "        for j in range(index, n):\n",
    "            # Finding all subtitle text in the each time interval\n",
    "            if subs[j].end.to_time() < intervals[i]:\n",
    "                text += subs[j].text_without_tags + \" \"\n",
    "            else:\n",
    "                break\n",
    "        # Sentiment Analysis\n",
    "        blob = TextBlob(text)\n",
    "        pol = blob.sentiment.polarity\n",
    "        sentiments.append(pol)\n",
    "        index = j\n",
    "    # Adding Initial State\n",
    "    intervals.insert(0, time(0, 0, 0))\n",
    "    sentiments.insert(0, 0.0)\n",
    "    return (intervals, sentiments)\n",
    "\n",
    "# Utility to find average sentiment\n",
    "def average(y):\n",
    "    avg = float(sum(y))/len(y)\n",
    "    return avg"
   ]
  },
  {
   "cell_type": "code",
   "execution_count": 40,
   "metadata": {},
   "outputs": [
    {
     "data": {
      "image/png": "[encoded data removed]",
      "text/plain": [
       "<Figure size 432x288 with 1 Axes>"
      ]
     },
     "metadata": {
      "needs_background": "light"
     },
     "output_type": "display_data"
    }
   ],
   "source": [
    "x, y = get_sentiment(\"./interstellar-english-yify-42252/Interstellar.2014.720p.BluRay.x264.YIFY.srt\")\n",
    "fig, ax = plt.subplots()\n",
    "plt.plot(x, y)\n",
    "plt.title(\"Interstellar (2011)\", fontsize=32)\n",
    "plt.ylim((-1, 1))\n",
    "plt.ylabel(\"Sentiment Polarity\")\n",
    "plt.xlabel(\"Running Time\")\n",
    "plt.text(.5, 1.03, \"Average Sentiment - \" + str(round(average(y), 4)), color=\"green\")\n",
    "ttl = ax.title\n",
    "ttl.set_position([.5, 1.05])"
   ]
  },
  {
   "cell_type": "code",
   "execution_count": null,
   "metadata": {},
   "outputs": [],
   "source": []
  }
 ],
 "metadata": {
  "kernelspec": {
   "display_name": "Python 2",
   "language": "python",
   "name": "python2"
  },
  "language_info": {
   "codemirror_mode": {
    "name": "ipython",
    "version": 2
   },
   "file_extension": ".py",
   "mimetype": "text/x-python",
   "name": "python",
   "nbconvert_exporter": "python",
   "pygments_lexer": "ipython2",
   "version": "2.7.15rc1"
  }
 },
 "nbformat": 4,
 "nbformat_minor": 2
}
